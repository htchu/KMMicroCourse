{
  "nbformat": 4,
  "nbformat_minor": 0,
  "metadata": {
    "colab": {
      "provenance": []
    },
    "kernelspec": {
      "name": "python3",
      "display_name": "Python 3"
    },
    "language_info": {
      "name": "python"
    }
  },
  "cells": [
    {
      "cell_type": "code",
      "execution_count": 4,
      "metadata": {
        "colab": {
          "base_uri": "https://localhost:8080/"
        },
        "id": "SwYhaJNqE4xx",
        "outputId": "cca73271-1cf2-473d-9202-a4e61224cdac"
      },
      "outputs": [
        {
          "output_type": "stream",
          "name": "stdout",
          "text": [
            "1\n"
          ]
        }
      ],
      "source": [
        "import datetime\n",
        "theday = datetime.datetime(2005, 12,27)\n",
        "print(theday.weekday())"
      ]
    },
    {
      "cell_type": "code",
      "source": [
        "import calendar\n",
        "print(calendar.day_name[theday.weekday()])"
      ],
      "metadata": {
        "colab": {
          "base_uri": "https://localhost:8080/"
        },
        "id": "CwSY44JFGSpT",
        "outputId": "dc499124-7ed0-4ee3-d34e-4c5e620f4735"
      },
      "execution_count": 5,
      "outputs": [
        {
          "output_type": "stream",
          "name": "stdout",
          "text": [
            "Tuesday\n"
          ]
        }
      ]
    },
    {
      "cell_type": "code",
      "source": [
        "weekday_ch = [\"星期一\",\"星期二\",\"星期三\",\"星期四\",\"星期五\",\"星期六\",\"星期日\"]\n",
        "print(weekday_ch[theday.weekday()])"
      ],
      "metadata": {
        "colab": {
          "base_uri": "https://localhost:8080/"
        },
        "id": "pE-vZTVOGdWY",
        "outputId": "9a39022a-8269-4849-d46d-81f46b7a20ab"
      },
      "execution_count": 6,
      "outputs": [
        {
          "output_type": "stream",
          "name": "stdout",
          "text": [
            "星期二\n"
          ]
        }
      ]
    },
    {
      "cell_type": "code",
      "source": [
        "print(f\"{theday.year}年{theday.month}月{theday.day}日是{weekday_ch[theday.weekday()]}\")"
      ],
      "metadata": {
        "colab": {
          "base_uri": "https://localhost:8080/"
        },
        "id": "tZWcLX2JGmFO",
        "outputId": "58eb5262-c289-4362-d121-d297953c959e"
      },
      "execution_count": 7,
      "outputs": [
        {
          "output_type": "stream",
          "name": "stdout",
          "text": [
            "2005年12月27日是星期二\n"
          ]
        }
      ]
    },
    {
      "cell_type": "code",
      "source": [
        "import datetime\n",
        "theday = datetime.datetime(2023, 12,27)\n",
        "weekday_ch = [\"星期一\",\"星期二\",\"星期三\",\"星期四\",\"星期五\",\"星期六\",\"星期日\"]\n",
        "print(f\"{theday.year}年{theday.month}月{theday.day}日是{weekday_ch[theday.weekday()]}\")"
      ],
      "metadata": {
        "colab": {
          "base_uri": "https://localhost:8080/"
        },
        "id": "mvEWeso1GsoO",
        "outputId": "23118972-cde3-4bf2-ffb6-de3ee9fc3993"
      },
      "execution_count": 8,
      "outputs": [
        {
          "output_type": "stream",
          "name": "stdout",
          "text": [
            "2023年12月27日是星期三\n"
          ]
        }
      ]
    }
  ]
}