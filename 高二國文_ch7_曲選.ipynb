{
  "nbformat": 4,
  "nbformat_minor": 0,
  "metadata": {
    "colab": {
      "provenance": []
    },
    "kernelspec": {
      "name": "python3",
      "display_name": "Python 3"
    },
    "language_info": {
      "name": "python"
    }
  },
  "cells": [
    {
      "cell_type": "markdown",
      "source": [
        "# 高二國文-ch7-曲選"
      ],
      "metadata": {
        "id": "xOM9NjrhIEyE"
      }
    },
    {
      "cell_type": "markdown",
      "source": [
        "## Youtube-彰化女中 蔡其蓉老師\n",
        "https://youtu.be/Zx_4Jr79uSo\n"
      ],
      "metadata": {
        "id": "5TGnCun2ISW6"
      }
    }
  ]
}